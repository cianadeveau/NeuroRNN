{
  "nbformat": 4,
  "nbformat_minor": 0,
  "metadata": {
    "colab": {
      "provenance": [],
      "authorship_tag": "ABX9TyPfUGp50KZ8KAa3QUOm0j2E",
      "include_colab_link": true
    },
    "kernelspec": {
      "name": "python3",
      "display_name": "Python 3"
    },
    "language_info": {
      "name": "python"
    }
  },
  "cells": [
    {
      "cell_type": "markdown",
      "metadata": {
        "id": "view-in-github",
        "colab_type": "text"
      },
      "source": [
        "<a href=\"https://colab.research.google.com/github/cianadeveau/NeuroRNN/blob/main/RNN_seqModel.ipynb\" target=\"_parent\"><img src=\"https://colab.research.google.com/assets/colab-badge.svg\" alt=\"Open In Colab\"/></a>"
      ]
    },
    {
      "cell_type": "code",
      "execution_count": null,
      "metadata": {
        "id": "dVCvTxvabbDE"
      },
      "outputs": [],
      "source": [
        "from google.colab import drive\n",
        "drive.mount('/content/drive')import sys\n",
        "sys.path.insert(0,'/content/drive/My Drive/src')"
      ]
    },
    {
      "cell_type": "code",
      "source": [
        "\"\"\"\n",
        "Requires PyTorch -> conda install pytorch::pytorch torchvision torchaudio -c pytorch\n",
        "\"\"\"\n",
        "# setup\n",
        "%matplotlib inline\n",
        "%reload_ext autoreload\n",
        "%autoreload 2\n",
        "\n",
        "# for system\n",
        "import numpy as np\n",
        "from scipy.special import softmax\n",
        "import matplotlib.pyplot as plt\n",
        "import torch\n",
        "import seaborn as sns\n",
        "import matplotlib\n",
        "from pathlib import Path\n",
        "\n",
        "import modules_simpleRNN as mm"
      ],
      "metadata": {
        "id": "p4yKI6Rrbx_X"
      },
      "execution_count": null,
      "outputs": []
    },
    {
      "cell_type": "code",
      "source": [
        "matplotlib.rc('pdf', fonttype=42)\n",
        "plt.rcParams['figure.dpi'] = 300\n",
        "plt.rcParams['axes.labelsize'] = 7\n",
        "plt.rcParams['xtick.labelsize'] = 7\n",
        "plt.rcParams['ytick.labelsize'] = 7\n",
        "plt.rcParams['legend.fontsize'] = 7\n",
        "plt.rcParams['axes.titlesize'] = 7\n",
        "!apt-get -qq install fonts-noto-cjk\n",
        "\n",
        "import matplotlib.pyplot as plt\n",
        "plt.rcParams['font.family'] = 'DejaVu Sans'"
      ],
      "metadata": {
        "id": "lk2UTaRwbyuY"
      },
      "execution_count": null,
      "outputs": []
    },
    {
      "cell_type": "code",
      "source": [
        "datadir = Path('/content/drive/My Drive/Colab Notebooks/').expanduser() # For saving plots etc."
      ],
      "metadata": {
        "id": "lQ9tyxigb2eV"
      },
      "execution_count": null,
      "outputs": []
    },
    {
      "cell_type": "code",
      "source": [
        "#%%\n",
        "# =============================================================================\n",
        "# Parameters\n",
        "# =============================================================================\n",
        "mm.set_plot()\n",
        "N = 500 #number of neurons\n",
        "hidden_size = N #same as number of neurons\n",
        "Tau = 60 #membrane time constant (ms)\n",
        "dta = 1 # integration timestep (ms)\n",
        "alpha = dta/Tau #this ratio is an important parameter for pytorch\n",
        "\n",
        "Tmax = 1000 #length of trial (ms)\n",
        "ts = np.arange(0, Tmax, dta) #time axis\n",
        "Nt = len(ts) #number of timepoints\n",
        "\n",
        "trials = 100 #number of trials\n",
        "\n",
        "s_Inp = 0.1 #0.1 #scale of input weights\n",
        "\n",
        "seq_length = 5 # number of patterns in the sequence\n",
        "n_stim = 20\n",
        "\n",
        "input_size = seq_length # n input per sequence\n",
        "output_size = N # num cells\n",
        "\n",
        "# Training parameters\n",
        "\n",
        "lr = 0.01 # 0.01 #learning rate\n",
        "n_ep = 100 #number of training epochs\n",
        "\n",
        "# Initial connectivity\n",
        "g0 = 0.8 #initial recurrent gain\n",
        "\n",
        "g_post = 2 #gain of responses after adaptation\n",
        "\n",
        "num_seq = 32\n",
        "num_inputs = 18"
      ],
      "metadata": {
        "id": "9Ex0aGxPb4bH"
      },
      "execution_count": null,
      "outputs": []
    },
    {
      "cell_type": "code",
      "source": [
        "#%%\n",
        "# =============================================================================\n",
        "#   Generate connectivity, input and output patterns\n",
        "# =============================================================================\n",
        "\n",
        "## create the 50 input patterns, there are 500 cells, each pattern is going to have 30 cells in it so there will be overlap\n",
        "wo_init = np.identity(hidden_size) # identity matrix of cells\n",
        "wi_init = np.zeros((num_inputs, hidden_size))\n",
        "\n",
        "n_overlap=0\n",
        "\n",
        "cell0 = 0\n",
        "celln = n_stim\n",
        "for inp in range(num_inputs):\n",
        "    wi_init[inp, cell0:celln] = np.sort(np.random.exponential(scale=0.05, size=n_stim))[::-1]\n",
        "    # print(inp, cell0, celln)\n",
        "    cell0 = celln-n_overlap\n",
        "    celln = cell0+n_stim\n",
        "\n",
        "# Recurrent weights\n",
        "wrec_init = g0*(1/np.sqrt(N))*np.random.randn(N,N)"
      ],
      "metadata": {
        "id": "-QMkV7Pab6r8"
      },
      "execution_count": null,
      "outputs": []
    },
    {
      "cell_type": "code",
      "source": [
        "def create_sequences(base_array, num_inputs, window_size=5):\n",
        "     # Calculate how many complete sequences we can make\n",
        "    num_sequences = num_inputs - window_size + 1\n",
        "\n",
        "    # Create list of sequences using array slicing\n",
        "    sequences = [base_array[i:i+window_size] for i in range(num_sequences)]\n",
        "\n",
        "    return sequences"
      ],
      "metadata": {
        "id": "zbtFrycmb833"
      },
      "execution_count": null,
      "outputs": []
    },
    {
      "cell_type": "code",
      "source": [
        "# Sequence Training Protocol\n",
        "natural= np.arange(0, num_inputs)\n",
        "seqs = create_sequences(natural, num_inputs)\n",
        "natural_seq = len(seqs)\n",
        "\n",
        "for i in range(num_seq-natural_seq):\n",
        "    seqs.append(np.random.choice(np.arange(0,num_inputs), seq_length, replace=False))"
      ],
      "metadata": {
        "id": "SCt1czt2cK0T"
      },
      "execution_count": null,
      "outputs": []
    },
    {
      "cell_type": "code",
      "source": [
        "amp_mask = np.concatenate(([2]*7,[0.5]*13)) #np.random.choice((0,3), 30)\n",
        "wi_init_masks = np.zeros((num_inputs, hidden_size))\n",
        "\n",
        "for pat in range(num_inputs):\n",
        "    wi_init_masks[pat,np.where(wi_init[pat]>0)[0]] = wi_init[pat,np.where(wi_init[pat]>0)[0]]*amp_mask"
      ],
      "metadata": {
        "id": "dsKHX2PbcR6t"
      },
      "execution_count": null,
      "outputs": []
    },
    {
      "cell_type": "code",
      "source": [
        "#%%\n",
        "# =============================================================================\n",
        "#  Generate temporal profile of input and output\n",
        "# =============================================================================\n",
        "input_train = np.zeros((num_seq, Nt, num_inputs)) #shape of inputs: trials x time x number of input patterns\n",
        "output_train = np.zeros((num_seq, Nt, output_size)) #shape of outputs\n",
        "mask_train = np.ones_like(output_train) # this selects which time points are included in the loss\n",
        "\n",
        "\n",
        "I_length = 120 #input duration (100)\n",
        "I_length_int = int(I_length/dta) #input duration in timesteps\n",
        "min_sil = 50 # minimum silence before/after each input\n",
        "max_sil = 400 #maximum silence before/after each input\n",
        "\n",
        "tSt = []\n",
        "iT0s = []\n",
        "for tr in range(num_seq):\n",
        "    pat_list = seqs[tr]\n",
        "    # Input squares are preceded and followed by a silent window (from 50 to 400 ms)\n",
        "    T0 = 200 # np.random.randint(min_sil, max_sil)#first input timepoint\n",
        "    tSt.append(T0)\n",
        "    iT0 = int(T0/dta) #first input time index\n",
        "    if tr < natural_seq:\n",
        "        for pat in pat_list:\n",
        "            iT0s.append(iT0)\n",
        "            input_train[tr,iT0:(iT0+I_length_int),pat] = 1.\n",
        "            iT0 = iT0+I_length_int\n",
        "\n",
        "    else:\n",
        "        for pat in pat_list:\n",
        "            input_train[tr,iT0:(iT0+I_length_int),pat] = 0\n",
        "            iT0 = iT0+I_length_int\n"
      ],
      "metadata": {
        "id": "lWO75Z4IcUa3"
      },
      "execution_count": null,
      "outputs": []
    },
    {
      "cell_type": "code",
      "source": [
        "input_target = np.zeros((num_seq, Nt, num_inputs)) #shape of inputs: trials x time x number of input patterns\n",
        "\n",
        "I_length = 120 #input duration (100)\n",
        "I_length_int = int(I_length/dta) #input duration in timesteps\n",
        "min_sil = 50 # minimum silence before/after each input\n",
        "max_sil = 400 #maximum silence before/after each input\n",
        "\n",
        "tSt = []\n",
        "for tr in range(num_seq):\n",
        "    pat_list = seqs[tr]\n",
        "    # Input squares are preceded and followed by a silent window (from 50 to 400 ms)\n",
        "    T0 = 200 # np.random.randint(min_sil, max_sil)#first input timepoint\n",
        "    tSt.append(T0)\n",
        "    iT0 = int(T0/dta) #iT0s[0] #first input time index\n",
        "    if tr < natural_seq:\n",
        "        for pat in pat_list:\n",
        "            input_target[tr,iT0:(iT0+I_length_int),pat] = 1\n",
        "            # iT0 = iT0s[pat+1]\n",
        "            iT0 = iT0+I_length_int\n",
        "    else:\n",
        "        for pat in pat_list:\n",
        "            input_target[tr,iT0:(iT0+I_length_int),pat] = 0\n",
        "            iT0 = iT0+I_length_int\n",
        "        # print(iT0, Nt)"
      ],
      "metadata": {
        "id": "Evmw7U8ZcWjC"
      },
      "execution_count": null,
      "outputs": []
    },
    {
      "cell_type": "code",
      "source": [
        "output_train[:,0,:] = np.matmul(np.matmul(input_target[:,0,:], wi_init_masks), wo_init)\n",
        "for i in range(Nt-1):\n",
        "    output_train[:,i+1,:] = np.matmul(np.matmul(input_target[:,i,:], wi_init_masks), wo_init)"
      ],
      "metadata": {
        "id": "m7e4K040cYRD"
      },
      "execution_count": null,
      "outputs": []
    },
    {
      "cell_type": "code",
      "source": [
        "#%%\n",
        "# =============================================================================\n",
        "#   Convert numpy variables into PyTorch tensors\n",
        "# =============================================================================\n",
        "dtype = torch.FloatTensor\n",
        "Output_train = torch.from_numpy(output_train).type(dtype).to('cuda')\n",
        "\n",
        "Input_train = torch.from_numpy(input_train).type(dtype).to('cuda')\n",
        "Mask_train = torch.from_numpy(mask_train).type(dtype).to('cuda')\n",
        "\n",
        "Wi_init = torch.from_numpy(wi_init).type(dtype).to('cuda')\n",
        "Wo_init = torch.from_numpy(wo_init).type(dtype).to('cuda')\n",
        "\n",
        "Wrec_init = torch.from_numpy(wrec_init).type(dtype).to('cuda')"
      ],
      "metadata": {
        "id": "xWnnZLeRcZ1a"
      },
      "execution_count": null,
      "outputs": []
    },
    {
      "cell_type": "code",
      "source": [
        "#%%\n",
        "# =============================================================================\n",
        "#   Initialize and train networks\n",
        "# =============================================================================\n",
        "num_epochs = 500\n",
        "#Initialize naive network\n",
        "Net_temp = mm.RNN(num_inputs, hidden_size, output_size, Wi_init, Wo_init, Wrec_init, alpha=alpha) #initialize\n",
        "​\n",
        "​\n",
        "loss_temp, wrec_temp = mm.train(Net_temp, Input_train, Output_train, Mask_train, n_epochs=num_epochs, plot_learning_curve=True, plot_gradient=True,\n",
        "                              lr=lr, clip_gradient = 2.,  cuda=True, save_loss=True, save_params=True, adam=True) # added the checkpoint_dir and checkpoint_frequency\n",
        "​\n",
        "​"
      ],
      "metadata": {
        "id": "3_ug5lXjcbLM"
      },
      "execution_count": null,
      "outputs": []
    },
    {
      "cell_type": "code",
      "source": [
        "# Calculate readout for both networks\n",
        "Output = Net_temp.forward(Input_train)\n",
        "output = Output.cpu().detach().numpy()"
      ],
      "metadata": {
        "id": "ntnuz8x8cf6X"
      },
      "execution_count": null,
      "outputs": []
    },
    {
      "cell_type": "markdown",
      "source": [
        "## First Panel"
      ],
      "metadata": {
        "id": "Zyuf-p-qckc0"
      }
    },
    {
      "cell_type": "code",
      "source": [
        "sub_inps = [[1,2,3,4,5], [13,5,16,14,2]] # Ex Trained and Untrained sequences"
      ],
      "metadata": {
        "id": "2ON6qT_Ncgpy"
      },
      "execution_count": null,
      "outputs": []
    },
    {
      "cell_type": "code",
      "source": [
        "stim_cells_amp = np.concatenate((np.where(wi_init[1]>0)[0], np.where(wi_init[2]>0)[0], np.where(wi_init[3]>0)[0], np.where(wi_init[4]>0)[0], np.where(wi_init[5]>0)[0]), axis=0)\n",
        "stim_cells_supp = np.concatenate((np.where(wi_init[13]>0)[0], np.where(wi_init[5]>0)[0], np.where(wi_init[16]>0)[0], np.where(wi_init[14]>0)[0], np.where(wi_init[2]>0)[0]), axis=0)"
      ],
      "metadata": {
        "id": "_PxBYuL0cp_9"
      },
      "execution_count": null,
      "outputs": []
    },
    {
      "cell_type": "code",
      "source": [
        "## Make the test input\n",
        "test_input = np.zeros((len(sub_inps), Nt, num_inputs))\n",
        "for tr in range(len(sub_inps)):\n",
        "    T0 = 200\n",
        "    iT0 = int(T0/dta)\n",
        "    for pat in sub_inps[tr]:\n",
        "        test_input[tr,iT0:(iT0+I_length_int),pat] = 1.\n",
        "        iT0 = iT0+I_length_int"
      ],
      "metadata": {
        "id": "mzXeMjzscqzV"
      },
      "execution_count": null,
      "outputs": []
    },
    {
      "cell_type": "code",
      "source": [
        "Test_input = torch.from_numpy(test_input).type(dtype).to('cuda')\n",
        "\n",
        "Output_test = Net_temp.forward(Test_input)\n",
        "output_test = Output_test.cpu().detach().numpy()"
      ],
      "metadata": {
        "id": "_8ucidkNcrRV"
      },
      "execution_count": null,
      "outputs": []
    },
    {
      "cell_type": "code",
      "source": [
        "# =============================================================================\n",
        "#   Plot results\n",
        "# =============================================================================\n",
        "\n",
        "# Plot input stimulus structure\n",
        "iTr = 1 # sample index\n",
        "#fig = plt.figure()\n",
        "fig = plt.figure(figsize=[2, 1.5])\n",
        "ax1 = plt.gca()\n",
        "for axis in ['bottom','left']:\n",
        "    ax1.spines[axis].set_linewidth(0.25)\n",
        "ax1.spines['right'].set_visible(False)\n",
        "ax1.spines['top'].set_visible(False)\n",
        "\n",
        "x1 = np.linspace(0, 1000, num=1000)\n",
        "\n",
        "plt.plot(x1[:], (output_test[0,:,stim_cells_amp]).T.mean(axis=1)[:], c='red', alpha=0.5, lw=0.5)\n",
        "plt.plot(x1[:], (output_test[1,:,stim_cells_supp]).T.mean(axis=1)[:], c='blue', alpha=0.5, lw=0.5)\n",
        "\n",
        "\n",
        "plt.xlabel('time (ms)', fontsize=7)\n",
        "plt.ylabel('average rate', fontsize=7)\n",
        "plt.xticks(fontsize=7)\n",
        "plt.yticks(fontsize=7)\n",
        "\n",
        "plt.show()"
      ],
      "metadata": {
        "id": "NnkawcUgcvBu"
      },
      "execution_count": null,
      "outputs": []
    },
    {
      "cell_type": "markdown",
      "source": [
        "## Second Panel"
      ],
      "metadata": {
        "id": "Ch9r6029czaC"
      }
    },
    {
      "cell_type": "code",
      "source": [
        "sub_inps = [[5,6], [2,6]] # Matched vs Unmatched context"
      ],
      "metadata": {
        "id": "mtDqPc-Ncwvk"
      },
      "execution_count": null,
      "outputs": []
    },
    {
      "cell_type": "code",
      "source": [
        "## Make the test input\n",
        "test_input = np.zeros((len(sub_inps), Nt, num_inputs))\n",
        "for tr in range(len(sub_inps)):\n",
        "    T0 = 200\n",
        "    iT0 = int(T0/dta)\n",
        "    for pat in sub_inps[tr]:\n",
        "        test_input[tr,iT0:(iT0+I_length_int),pat] = 1.\n",
        "        iT0 = iT0+I_length_int"
      ],
      "metadata": {
        "id": "g6aV2BD9c2Y2"
      },
      "execution_count": null,
      "outputs": []
    },
    {
      "cell_type": "code",
      "source": [
        "Test_input = torch.from_numpy(test_input).type(dtype).to('cuda')\n",
        "\n",
        "Output_test = Net_temp.forward(Test_input)\n",
        "output_test = Output_test.cpu().detach().numpy()"
      ],
      "metadata": {
        "id": "JvTduqaec27e"
      },
      "execution_count": null,
      "outputs": []
    },
    {
      "cell_type": "code",
      "source": [
        "# =============================================================================\n",
        "#   Plot results\n",
        "# =============================================================================\n",
        "\n",
        "# Plot input stimulus structure\n",
        "iTr = 1 # sample index\n",
        "#fig = plt.figure()\n",
        "fig = plt.figure(figsize=[2, 1.5])\n",
        "ax1 = plt.gca()\n",
        "for axis in ['bottom','left']:\n",
        "    ax1.spines[axis].set_linewidth(0.25)\n",
        "ax1.spines['right'].set_visible(False)\n",
        "ax1.spines['top'].set_visible(False)\n",
        "\n",
        "x1 = np.linspace(0, 1000, num=1000)\n",
        "\n",
        "\n",
        "Colors = ['blue', 'green','yellow','green', 'blue', 'indigo']\n",
        "for i in range(output_test.shape[0]):\n",
        "  plt.plot(x1[:], (output_test[i,:,np.where(wi_init[6]>0)[0]]).T.mean(axis=1), color=Colors[i],lw=0.5)\n",
        "\n",
        "plt.xlabel('time (ms)', fontsize=7)\n",
        "plt.ylabel('average rate', fontsize=7)\n",
        "plt.xticks(fontsize=7)\n",
        "plt.yticks(fontsize=7)\n",
        "# plt.savefig(datadir/f'matchedvunmatched_control.pdf')\n",
        "plt.show()"
      ],
      "metadata": {
        "id": "gVhqOSC3c4pm"
      },
      "execution_count": null,
      "outputs": []
    }
  ]
}